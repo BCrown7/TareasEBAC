{
 "cells": [
  {
   "cell_type": "code",
   "execution_count": 1,
   "metadata": {},
   "outputs": [
    {
     "name": "stdout",
     "output_type": "stream",
     "text": [
      "No se encontró el archivo\n"
     ]
    }
   ],
   "source": [
    "# Ejemplos de TRY & EXCEPT\n",
    "\n",
    "try:\n",
    "  open('test.txt')\n",
    "except FileNotFoundError:\n",
    "  print('No se encontró el archivo')"
   ]
  },
  {
   "cell_type": "code",
   "execution_count": 18,
   "metadata": {},
   "outputs": [
    {
     "name": "stdout",
     "output_type": "stream",
     "text": [
      "Documento no válido\n",
      "Proceso finalizado\n"
     ]
    }
   ],
   "source": [
    "# Ejemplo de TRY/EXCEPT/ELSE/FINALLY\n",
    "\n",
    "try:\n",
    "    open('test.txt')\n",
    "except:\n",
    "    print('Documento no válido')\n",
    "else:\n",
    "    FileNotFoundError\n",
    "finally:\n",
    "    print('Proceso finalizado')"
   ]
  },
  {
   "cell_type": "code",
   "execution_count": 15,
   "metadata": {},
   "outputs": [
    {
     "name": "stdout",
     "output_type": "stream",
     "text": [
      "El resultado de la suma de las variables antes del error es 10\n"
     ]
    },
    {
     "ename": "ZeroDivisionError",
     "evalue": "division by zero",
     "output_type": "error",
     "traceback": [
      "\u001b[0;31m---------------------------------------------------------------------------\u001b[0m",
      "\u001b[0;31mZeroDivisionError\u001b[0m                         Traceback (most recent call last)",
      "Cell \u001b[0;32mIn[15], line 10\u001b[0m\n\u001b[1;32m      7\u001b[0m suma \u001b[38;5;241m=\u001b[39m a \u001b[38;5;241m+\u001b[39m b \u001b[38;5;241m+\u001b[39m c \u001b[38;5;241m+\u001b[39m d\n\u001b[1;32m      9\u001b[0m \u001b[38;5;28mprint\u001b[39m(\u001b[38;5;124mf\u001b[39m\u001b[38;5;124m'\u001b[39m\u001b[38;5;124mEl resultado de la suma de las variables antes del error es \u001b[39m\u001b[38;5;132;01m{\u001b[39;00msuma\u001b[38;5;132;01m}\u001b[39;00m\u001b[38;5;124m'\u001b[39m)\n\u001b[0;32m---> 10\u001b[0m \u001b[38;5;28mprint\u001b[39m(suma \u001b[38;5;241m/\u001b[39m \u001b[38;5;241m0\u001b[39m)\n",
      "\u001b[0;31mZeroDivisionError\u001b[0m: division by zero"
     ]
    }
   ],
   "source": [
    "# Debugging de código\n",
    "\n",
    "a = 1\n",
    "b = 2\n",
    "c = 3\n",
    "d = 4\n",
    "suma = a + b + c + d\n",
    "\n",
    "print(f'El resultado de la suma de las variables antes del error es {suma}')\n",
    "print(suma / 0)"
   ]
  },
  {
   "cell_type": "code",
   "execution_count": null,
   "metadata": {},
   "outputs": [],
   "source": [
    "# Se realizó debugging del código verificando las variables existentes (indicado en las capturas de pantalla anexadas).\n",
    "# Se colocó un breakpoint para verificar las celdas rompiendo el código en la celda final en donde se divide entre 0\n",
    "# comprobando de esta manera la linea que indica el error, así como su tipo."
   ]
  }
 ],
 "metadata": {
  "kernelspec": {
   "display_name": "base",
   "language": "python",
   "name": "python3"
  },
  "language_info": {
   "codemirror_mode": {
    "name": "ipython",
    "version": 3
   },
   "file_extension": ".py",
   "mimetype": "text/x-python",
   "name": "python",
   "nbconvert_exporter": "python",
   "pygments_lexer": "ipython3",
   "version": "3.12.7"
  }
 },
 "nbformat": 4,
 "nbformat_minor": 2
}
