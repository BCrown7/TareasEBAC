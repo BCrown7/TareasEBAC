{
  "nbformat": 4,
  "nbformat_minor": 0,
  "metadata": {
    "colab": {
      "provenance": []
    },
    "kernelspec": {
      "name": "python3",
      "display_name": "Python 3"
    },
    "language_info": {
      "name": "python"
    }
  },
  "cells": [
    {
      "cell_type": "markdown",
      "source": [
        "# *LAMBDA*"
      ],
      "metadata": {
        "id": "FdJEIc_INNgO"
      }
    },
    {
      "cell_type": "code",
      "source": [
        "# Ejericicio SIN Lambda\n",
        "\n",
        "def raiz_cuadrada(x):\n",
        "  return x**0.5\n",
        "\n",
        "print(raiz_cuadrada(25))"
      ],
      "metadata": {
        "colab": {
          "base_uri": "https://localhost:8080/"
        },
        "id": "A1ohnTBOM3Yz",
        "outputId": "f1fb4a0b-3250-4999-bd7a-531e3d3e09c6"
      },
      "execution_count": 9,
      "outputs": [
        {
          "output_type": "stream",
          "name": "stdout",
          "text": [
            "5.0\n"
          ]
        }
      ]
    },
    {
      "cell_type": "code",
      "execution_count": 8,
      "metadata": {
        "colab": {
          "base_uri": "https://localhost:8080/"
        },
        "id": "riyichwqML_3",
        "outputId": "88e9e10a-04f1-47ef-d1d0-ce6b324cc462"
      },
      "outputs": [
        {
          "output_type": "execute_result",
          "data": {
            "text/plain": [
              "5.0"
            ]
          },
          "metadata": {},
          "execution_count": 8
        }
      ],
      "source": [
        "# Ejercicio CON Lambda\n",
        "\n",
        "(lambda x: x**0.5)(25)"
      ]
    },
    {
      "cell_type": "markdown",
      "source": [
        "# *MAP*"
      ],
      "metadata": {
        "id": "OcJZxpU4NSlR"
      }
    },
    {
      "cell_type": "code",
      "source": [
        "# Ejericicio SIN Map\n",
        "\n",
        "lista = ['Que', 'Buena', 'Escuela', 'Es', 'EBAC']\n",
        "cantidad = []\n",
        "\n",
        "for palabra in lista:\n",
        "  cantidad.append(len(palabra))\n",
        "\n",
        "print(cantidad)"
      ],
      "metadata": {
        "colab": {
          "base_uri": "https://localhost:8080/"
        },
        "id": "Vc5tMPvhNByG",
        "outputId": "61f81ee1-8426-4a0d-ee77-335ff1d2a761"
      },
      "execution_count": 12,
      "outputs": [
        {
          "output_type": "stream",
          "name": "stdout",
          "text": [
            "[3, 5, 7, 2, 4]\n"
          ]
        }
      ]
    },
    {
      "cell_type": "code",
      "source": [
        "# Ejericio CON Map\n",
        "\n",
        "lista = ['Que', 'Buena', 'Escuela', 'Es', 'EBAC']\n",
        "\n",
        "cantidad = list(map(len, lista))\n",
        "print(cantidad)"
      ],
      "metadata": {
        "colab": {
          "base_uri": "https://localhost:8080/"
        },
        "id": "vKvCQaJaM-ZY",
        "outputId": "7bb3fa4b-d73d-4e86-b7a1-486d6683ca25"
      },
      "execution_count": 13,
      "outputs": [
        {
          "output_type": "stream",
          "name": "stdout",
          "text": [
            "[3, 5, 7, 2, 4]\n"
          ]
        }
      ]
    },
    {
      "cell_type": "markdown",
      "source": [
        "# *REDUCE*"
      ],
      "metadata": {
        "id": "g9sg6anaNVyX"
      }
    },
    {
      "cell_type": "code",
      "source": [
        "# Ejericicio sin uso de REDUCE\n",
        "\n",
        "numeros = [1, 2, 3, 4, 5]\n",
        "\n",
        "multi = 1\n",
        "\n",
        "for numero in numeros:\n",
        "  multi *= numero\n",
        "\n",
        "print(multi)"
      ],
      "metadata": {
        "colab": {
          "base_uri": "https://localhost:8080/"
        },
        "id": "6y4GNyDbNGSh",
        "outputId": "539795f4-8cd6-4021-bfaf-501b9d5ba3d9"
      },
      "execution_count": 69,
      "outputs": [
        {
          "output_type": "stream",
          "name": "stdout",
          "text": [
            "120\n"
          ]
        }
      ]
    },
    {
      "cell_type": "code",
      "source": [
        "# Ejercicio con REDUCE\n",
        "\n",
        "from functools import reduce\n",
        "\n",
        "lista = [1, 2, 3, 4, 5]\n",
        "multi = reduce(lambda x, y: x * y, lista)\n",
        "multi"
      ],
      "metadata": {
        "colab": {
          "base_uri": "https://localhost:8080/"
        },
        "id": "WqEwsYH5NEFI",
        "outputId": "cfcc5d1b-3c7c-4fdd-9a86-57994f261adf"
      },
      "execution_count": 73,
      "outputs": [
        {
          "output_type": "execute_result",
          "data": {
            "text/plain": [
              "120"
            ]
          },
          "metadata": {},
          "execution_count": 73
        }
      ]
    },
    {
      "cell_type": "markdown",
      "source": [
        "# *FILTER*"
      ],
      "metadata": {
        "id": "pwIQTv7NNYKR"
      }
    },
    {
      "cell_type": "code",
      "source": [
        "# Ejericicio sin uso de FILTER\n",
        "\n",
        "jugadores = ['CR7', 'Haaland', 'Messi10', 'MBAPPE']\n",
        "\n",
        "def mayusculas_numeros(jugadores):\n",
        "  for jugador in jugadores:\n",
        "    if jugador.isupper() or jugador.isnumeric():\n",
        "      print(jugador)\n",
        "\n",
        "mayusculas_numeros(jugadores)"
      ],
      "metadata": {
        "colab": {
          "base_uri": "https://localhost:8080/"
        },
        "id": "oWUDmJkrNI_i",
        "outputId": "53808e9a-f839-4db9-a0b4-2e8a827401cc"
      },
      "execution_count": 65,
      "outputs": [
        {
          "output_type": "stream",
          "name": "stdout",
          "text": [
            "CR7\n",
            "MBAPPE\n"
          ]
        }
      ]
    },
    {
      "cell_type": "code",
      "source": [
        "# Ejercicio con FILTER\n",
        "\n",
        "random = ['CR7', 97, [], None, 'Messi', 16, False]\n",
        "\n",
        "def identity(x):\n",
        "  return x\n",
        "\n",
        "list(filter(identity, random))"
      ],
      "metadata": {
        "colab": {
          "base_uri": "https://localhost:8080/"
        },
        "id": "Qol6lWZJNG-M",
        "outputId": "1bfd12b0-a91c-4a16-e262-226a625c69d1"
      },
      "execution_count": 63,
      "outputs": [
        {
          "output_type": "execute_result",
          "data": {
            "text/plain": [
              "['CR7', 97, 'Messi', 16]"
            ]
          },
          "metadata": {},
          "execution_count": 63
        }
      ]
    }
  ]
}