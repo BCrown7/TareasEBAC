{
 "cells": [
  {
   "cell_type": "markdown",
   "id": "3e068d16-ac34-4f08-99cf-0df1c4037b9c",
   "metadata": {},
   "source": [
    "### Tarea M26 - Bryan Alberto Coronado García (EBAC)"
   ]
  },
  {
   "cell_type": "markdown",
   "id": "bffe39d0-abdc-474b-bce4-ac3c8aefad2b",
   "metadata": {
    "jp-MarkdownHeadingCollapsed": true
   },
   "source": [
    "#### - Descargar el archivo “Height of Male and Female by Country 2022.csv”\n",
    "#### - Cambiar directorio a un directorio de su preferencia"
   ]
  },
  {
   "cell_type": "code",
   "execution_count": 11,
   "id": "63a49b74-3345-49c3-b273-83bd52dbc386",
   "metadata": {},
   "outputs": [
    {
     "data": {
      "text/plain": [
       "'C:\\\\Users\\\\thehe\\\\OneDrive\\\\Escritorio'"
      ]
     },
     "execution_count": 11,
     "metadata": {},
     "output_type": "execute_result"
    }
   ],
   "source": [
    "import os\n",
    "\n",
    "os.chdir('C:/Users/thehe/OneDrive/Escritorio')\n",
    "os.getcwd()"
   ]
  },
  {
   "cell_type": "markdown",
   "id": "c0344d4b-edba-4d29-9f92-f863a364b735",
   "metadata": {
    "jp-MarkdownHeadingCollapsed": true
   },
   "source": [
    "#### - Leer el archivo CSV mencionado"
   ]
  },
  {
   "cell_type": "code",
   "execution_count": 94,
   "id": "47f82b85-2cb6-4420-a4fc-ad4b15875d5f",
   "metadata": {},
   "outputs": [],
   "source": [
    "import csv\n",
    "\n",
    "file = open('Height of Male and Female by Country 2022.csv')\n",
    "\n",
    "alturas = csv.reader(file)"
   ]
  },
  {
   "cell_type": "markdown",
   "id": "d89276af-fd9f-4995-97b2-af5af1e7598a",
   "metadata": {
    "jp-MarkdownHeadingCollapsed": true
   },
   "source": [
    "#### - Imprimir las primeras 50 líneas"
   ]
  },
  {
   "cell_type": "code",
   "execution_count": 96,
   "id": "d3fc59b3-1dd1-4535-ab0e-49d0e673c95d",
   "metadata": {},
   "outputs": [
    {
     "data": {
      "text/plain": [
       "['Rank',\n",
       " 'Country Name',\n",
       " 'Male Height in Cm',\n",
       " 'Female Height in Cm',\n",
       " 'Male Height in Ft',\n",
       " 'Female Height in Ft']"
      ]
     },
     "execution_count": 96,
     "metadata": {},
     "output_type": "execute_result"
    }
   ],
   "source": [
    "\n",
    "header = []\n",
    "header = next(alturas)\n",
    "header"
   ]
  },
  {
   "cell_type": "code",
   "execution_count": 98,
   "id": "247f8a9a-98aa-4779-b5a0-708b9c08c39e",
   "metadata": {},
   "outputs": [
    {
     "data": {
      "text/plain": [
       "[['1', 'Netherlands', '183.78', '170.36', '6.03', '5.59'],\n",
       " ['2', 'Montenegro', '183.30', '169.96', '6.01', '5.58'],\n",
       " ['3', 'Estonia', '182.79', '168.66', '6.00', '5.53'],\n",
       " ['4', 'Bosnia and Herzegovina', '182.47', '167.47', '5.99', '5.49'],\n",
       " ['5', 'Iceland', '182.10', '168.91', '5.97', '5.54'],\n",
       " ['6', 'Denmark', '181.89', '169.47', '5.97', '5.56'],\n",
       " ['7', 'Czech Republic', '181.19', '167.96', '5.94', '5.51'],\n",
       " ['8', 'Latvia', '181.17', '168.81', '5.94', '5.54'],\n",
       " ['9', 'Slovakia', '181.02', '167.12', '5.94', '5.48'],\n",
       " ['10', 'Slovenia', '180.98', '167.20', '5.94', '5.49'],\n",
       " ['11', 'Ukraine', '180.98', '166.62', '5.94', '5.47'],\n",
       " ['12', 'Croatia', '180.76', '166.80', '5.93', '5.47'],\n",
       " ['13', 'Serbia', '180.74', '168.29', '5.93', '5.52'],\n",
       " ['14', 'Lithuania', '180.72', '167.63', '5.93', '5.50'],\n",
       " ['15', 'Poland', '180.69', '165.78', '5.93', '5.44'],\n",
       " ['16', 'Finland', '180.57', '166.48', '5.92', '5.46'],\n",
       " ['17', 'Norway', '180.48', '166.45', '5.92', '5.46'],\n",
       " ['18', 'Sweden', '180.46', '166.67', '5.92', '5.47'],\n",
       " ['19', 'Germany', '180.28', '166.18', '5.91', '5.45'],\n",
       " ['20', 'Dominica', '180.15', '166.89', '5.91', '5.48'],\n",
       " ['21', 'Bermuda', '179.72', '166.11', '5.90', '5.45'],\n",
       " ['22', 'Puerto Rico', '179.48', '163.06', '5.89', '5.35'],\n",
       " ['23', 'Greece', '179.26', '165.81', '5.88', '5.44'],\n",
       " ['24', 'Belgium', '179.09', '163.40', '5.88', '5.36'],\n",
       " ['25', 'Ireland', '179.04', '164.50', '5.87', '5.40'],\n",
       " ['26', 'Lebanon', '178.96', '163.67', '5.87', '5.37'],\n",
       " ['27', 'Andorra', '178.84', '165.53', '5.87', '5.43'],\n",
       " ['28', 'Antigua and Barbuda', '178.84', '165.72', '5.87', '5.44'],\n",
       " ['29', 'Australia', '178.77', '164.67', '5.87', '5.40'],\n",
       " ['30', 'Canada', '178.75', '164.73', '5.86', '5.40'],\n",
       " ['31', 'Switzerland', '178.73', '164.33', '5.86', '5.39'],\n",
       " ['32', 'Grenada', '178.70', '165.99', '5.86', '5.45'],\n",
       " ['33', 'Belarus', '178.69', '166.93', '5.86', '5.48'],\n",
       " ['34', 'France', '178.60', '164.49', '5.86', '5.40'],\n",
       " ['35', 'Austria', '178.52', '166.93', '5.86', '5.48'],\n",
       " ['36', 'Luxembourg', '178.46', '165.07', '5.86', '5.42'],\n",
       " ['37', 'Cook Islands', '178.32', '167.31', '5.85', '5.49'],\n",
       " ['38', 'French Polynesia', '178.32', '166.52', '5.85', '5.46'],\n",
       " ['39', 'United Kingdom', '178.21', '163.94', '5.85', '5.38'],\n",
       " ['40', 'Romania', '177.82', '164.73', '5.83', '5.40'],\n",
       " ['41', 'New Zealand', '177.72', '164.66', '5.83', '5.40'],\n",
       " ['42',\n",
       "  'Saint Vincent and the Grenadines',\n",
       "  '177.49',\n",
       "  '165.30',\n",
       "  '5.82',\n",
       "  '5.42'],\n",
       " ['43', 'Niue', '177.19', '167.03', '5.81', '5.48'],\n",
       " ['44', 'American Samoa', '177.09', '167.55', '5.81', '5.50'],\n",
       " ['45', 'Barbados', '177.03', '165.66', '5.81', '5.44'],\n",
       " ['46', 'Jamaica', '176.97', '164.32', '5.81', '5.39'],\n",
       " ['47', 'United States', '176.94', '163.31', '5.81', '5.36'],\n",
       " ['48', 'Tunisia', '176.85', '161.69', '5.80', '5.30'],\n",
       " ['49', 'Russia', '176.65', '164.52', '5.80', '5.40'],\n",
       " ['50', 'Hungary', '176.59', '162.55', '5.79', '5.33']]"
      ]
     },
     "execution_count": 98,
     "metadata": {},
     "output_type": "execute_result"
    }
   ],
   "source": [
    "rows = list(alturas)\n",
    "rows[:50]"
   ]
  },
  {
   "cell_type": "markdown",
   "id": "4ca286c8-bcf0-4a66-a422-cbd5272f2b76",
   "metadata": {
    "jp-MarkdownHeadingCollapsed": true
   },
   "source": [
    "#### - Obtener la data de alturas de su país de origen \n",
    "#### - Transformación de datos para su manipulación"
   ]
  },
  {
   "cell_type": "code",
   "execution_count": 101,
   "id": "8c81e13f-4cdf-488d-bb10-16a26c889250",
   "metadata": {},
   "outputs": [
    {
     "data": {
      "text/plain": [
       "array([['1', 'Netherlands', '183.78', '170.36', '6.03', '5.59'],\n",
       "       ['2', 'Montenegro', '183.30', '169.96', '6.01', '5.58'],\n",
       "       ['3', 'Estonia', '182.79', '168.66', '6.00', '5.53']], dtype='<U32')"
      ]
     },
     "execution_count": 101,
     "metadata": {},
     "output_type": "execute_result"
    }
   ],
   "source": [
    "import numpy as np\n",
    "\n",
    "array_db = np.array(rows)\n",
    "array_db[0:3] # verificación del array"
   ]
  },
  {
   "cell_type": "code",
   "execution_count": 103,
   "id": "6b7d6c77-56ea-47b0-b170-42f95b10f50f",
   "metadata": {},
   "outputs": [
    {
     "data": {
      "text/plain": [
       "array(['183.78', '183.30', '182.79', '182.47', '182.10', '181.89',\n",
       "       '181.19', '181.17', '181.02', '180.98'], dtype='<U32')"
      ]
     },
     "execution_count": 103,
     "metadata": {},
     "output_type": "execute_result"
    }
   ],
   "source": [
    "man_cm = array_db[:,2]\n",
    "man_cm[0:10] # verificación altura hombres"
   ]
  },
  {
   "cell_type": "code",
   "execution_count": 105,
   "id": "6d2780b4-2ea2-4952-a6c6-15d0533e7f05",
   "metadata": {},
   "outputs": [
    {
     "data": {
      "text/plain": [
       "array(['170.36', '169.96', '168.66', '167.47', '168.91', '169.47',\n",
       "       '167.96', '168.81', '167.12', '167.20'], dtype='<U32')"
      ]
     },
     "execution_count": 105,
     "metadata": {},
     "output_type": "execute_result"
    }
   ],
   "source": [
    "woman_cm = array_db[:,3]\n",
    "woman_cm[0:10] # verificación altura mujeres"
   ]
  },
  {
   "cell_type": "code",
   "execution_count": 107,
   "id": "7a2a5f29-9ba5-4d67-aef9-6bb78de91b10",
   "metadata": {},
   "outputs": [
    {
     "data": {
      "text/plain": [
       "[183.78, 183.3, 182.79, 182.47, 182.1, 181.89, 181.19, 181.17, 181.02, 180.98]"
      ]
     },
     "execution_count": 107,
     "metadata": {},
     "output_type": "execute_result"
    }
   ],
   "source": [
    "float_man_cm = [float(numeric_string) for numeric_string in man_cm]\n",
    "float_man_cm[0:10] # Transformación a float"
   ]
  },
  {
   "cell_type": "code",
   "execution_count": 109,
   "id": "2565a595-553a-474d-8c07-ecce5a61f1ec",
   "metadata": {},
   "outputs": [
    {
     "data": {
      "text/plain": [
       "[170.36, 169.96, 168.66, 167.47, 168.91, 169.47, 167.96, 168.81, 167.12, 167.2]"
      ]
     },
     "execution_count": 109,
     "metadata": {},
     "output_type": "execute_result"
    }
   ],
   "source": [
    "float_woman_cm = [float(numeric_string) for numeric_string in woman_cm]\n",
    "float_woman_cm[0:10] # Transformación a float"
   ]
  },
  {
   "cell_type": "markdown",
   "id": "ded953c7-12ee-4845-b60b-023110b0dfb5",
   "metadata": {
    "jp-MarkdownHeadingCollapsed": true
   },
   "source": [
    "#### Calcular la media, mínima y máxima altura de hombres y mujeres del data set completo "
   ]
  },
  {
   "cell_type": "code",
   "execution_count": 130,
   "id": "283d634f-63e2-422c-89fa-3ba67c4f57c0",
   "metadata": {},
   "outputs": [
    {
     "name": "stdout",
     "output_type": "stream",
     "text": [
      "La media de altura de los hombres es de 173 centímetros\n",
      "La altura mínima de los hombres es de 160 centímetros\n",
      "La altura máxima de los hombres es de 183 centímetros\n"
     ]
    }
   ],
   "source": [
    "from statistics import mean\n",
    "\n",
    "media_hombres = mean(float_man_cm)\n",
    "min_hombres = min(float_man_cm)\n",
    "max_hombres = max(float_man_cm)\n",
    "\n",
    "print(f'La media de altura de los hombres es de {int(media_hombres)} centímetros')\n",
    "print(f'La altura mínima de los hombres es de {int(min_hombres)} centímetros')\n",
    "print(f'La altura máxima de los hombres es de {int(max_hombres)} centímetros')"
   ]
  },
  {
   "cell_type": "code",
   "execution_count": 134,
   "id": "03ac88cc-8939-4f3e-80d8-505a871699f3",
   "metadata": {},
   "outputs": [
    {
     "name": "stdout",
     "output_type": "stream",
     "text": [
      "La media de altura de los hombres es de 160 centímetros\n",
      "La altura mínima de los hombres es de 150 centímetros\n",
      "La altura máxima de los hombres es de 170 centímetros\n"
     ]
    }
   ],
   "source": [
    "media_mujeres = mean(float_woman_cm)\n",
    "min_mujeres = min(float_woman_cm)\n",
    "max_mujeres = max(float_woman_cm)\n",
    "\n",
    "print(f'La media de altura de los hombres es de {int(media_mujeres)} centímetros')\n",
    "print(f'La altura mínima de los hombres es de {int(min_mujeres)} centímetros')\n",
    "print(f'La altura máxima de los hombres es de {int(max_mujeres)} centímetros')"
   ]
  }
 ],
 "metadata": {
  "kernelspec": {
   "display_name": "Python 3 (ipykernel)",
   "language": "python",
   "name": "python3"
  },
  "language_info": {
   "codemirror_mode": {
    "name": "ipython",
    "version": 3
   },
   "file_extension": ".py",
   "mimetype": "text/x-python",
   "name": "python",
   "nbconvert_exporter": "python",
   "pygments_lexer": "ipython3",
   "version": "3.12.4"
  }
 },
 "nbformat": 4,
 "nbformat_minor": 5
}
